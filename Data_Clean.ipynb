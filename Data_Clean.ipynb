{
  "nbformat": 4,
  "nbformat_minor": 0,
  "metadata": {
    "colab": {
      "provenance": [],
      "gpuType": "T4",
      "authorship_tag": "ABX9TyP47JaqTBOwf+StWW54RKP/",
      "include_colab_link": true
    },
    "kernelspec": {
      "name": "python3",
      "display_name": "Python 3"
    },
    "language_info": {
      "name": "python"
    },
    "accelerator": "GPU"
  },
  "cells": [
    {
      "cell_type": "markdown",
      "metadata": {
        "id": "view-in-github",
        "colab_type": "text"
      },
      "source": [
        "<a href=\"https://colab.research.google.com/github/pradhansankalp10/Data-Cleaning/blob/main/Data_Clean.ipynb\" target=\"_parent\"><img src=\"https://colab.research.google.com/assets/colab-badge.svg\" alt=\"Open In Colab\"/></a>"
      ]
    },
    {
      "cell_type": "code",
      "execution_count": 1,
      "metadata": {
        "colab": {
          "base_uri": "https://localhost:8080/"
        },
        "id": "ht_LkV28LJMn",
        "outputId": "388c9a2f-9590-4d7b-95ba-20d53e314d01"
      },
      "outputs": [
        {
          "output_type": "stream",
          "name": "stdout",
          "text": [
            "Dataset unzipped to: Sankalp\n"
          ]
        }
      ],
      "source": [
        "import zipfile\n",
        "import os\n",
        "\n",
        "def load_and_unzip_dataset(zip_file_path, destination_folder):\n",
        "  \"\"\"Loads and unzips a dataset into a new folder.\n",
        "\n",
        "  Args:\n",
        "    zip_file_path: Path to the zip file containing the dataset.\n",
        "    destination_folder: Name of the new folder to store the dataset.\n",
        "  \"\"\"\n",
        "  if not os.path.exists(destination_folder):\n",
        "    os.makedirs(destination_folder)\n",
        "\n",
        "  with zipfile.ZipFile(zip_file_path, 'r') as zip_ref:\n",
        "    zip_ref.extractall(destination_folder)\n",
        "\n",
        "zip_file_path = '/content/Animal Dataset.zip'\n",
        "destination_folder = 'Sankalp'\n",
        "\n",
        "load_and_unzip_dataset(zip_file_path, destination_folder)\n",
        "\n",
        "print(f\"Dataset unzipped to: {destination_folder}\")"
      ]
    },
    {
      "cell_type": "code",
      "source": [
        "import pandas as pd\n",
        "data=pd.read_csv('/content/Sankalp/Animal Dataset.csv')\n",
        "data.info()"
      ],
      "metadata": {
        "colab": {
          "base_uri": "https://localhost:8080/"
        },
        "id": "PFrQ8d2JMsZn",
        "outputId": "0447ed96-b385-4f78-a41a-38c2d238e669"
      },
      "execution_count": 2,
      "outputs": [
        {
          "output_type": "stream",
          "name": "stdout",
          "text": [
            "<class 'pandas.core.frame.DataFrame'>\n",
            "RangeIndex: 205 entries, 0 to 204\n",
            "Data columns (total 16 columns):\n",
            " #   Column                   Non-Null Count  Dtype \n",
            "---  ------                   --------------  ----- \n",
            " 0   Animal                   205 non-null    object\n",
            " 1   Height (cm)              205 non-null    object\n",
            " 2   Weight (kg)              205 non-null    object\n",
            " 3   Color                    205 non-null    object\n",
            " 4   Lifespan (years)         205 non-null    object\n",
            " 5   Diet                     205 non-null    object\n",
            " 6   Habitat                  205 non-null    object\n",
            " 7   Predators                205 non-null    object\n",
            " 8   Average Speed (km/h)     205 non-null    object\n",
            " 9   Countries Found          205 non-null    object\n",
            " 10  Conservation Status      205 non-null    object\n",
            " 11  Family                   205 non-null    object\n",
            " 12  Gestation Period (days)  205 non-null    object\n",
            " 13  Top Speed (km/h)         205 non-null    object\n",
            " 14  Social Structure         205 non-null    object\n",
            " 15  Offspring per Birth      205 non-null    object\n",
            "dtypes: object(16)\n",
            "memory usage: 25.8+ KB\n"
          ]
        }
      ]
    },
    {
      "cell_type": "code",
      "source": [
        "import pandas as pd\n",
        "df = pd.read_csv('/content/Sankalp/Animal Dataset.csv')\n",
        "df.shape"
      ],
      "metadata": {
        "colab": {
          "base_uri": "https://localhost:8080/"
        },
        "id": "s5b6oAbfoIzW",
        "outputId": "a778f8bd-0819-4ec8-db54-ff2381c44a62"
      },
      "execution_count": 3,
      "outputs": [
        {
          "output_type": "execute_result",
          "data": {
            "text/plain": [
              "(205, 16)"
            ]
          },
          "metadata": {},
          "execution_count": 3
        }
      ]
    },
    {
      "cell_type": "code",
      "source": [
        "df.info()"
      ],
      "metadata": {
        "colab": {
          "base_uri": "https://localhost:8080/"
        },
        "id": "qm4iPa-QohZ7",
        "outputId": "98c8cb8c-fb1a-437f-9cb2-89b731773ccf"
      },
      "execution_count": 4,
      "outputs": [
        {
          "output_type": "stream",
          "name": "stdout",
          "text": [
            "<class 'pandas.core.frame.DataFrame'>\n",
            "RangeIndex: 205 entries, 0 to 204\n",
            "Data columns (total 16 columns):\n",
            " #   Column                   Non-Null Count  Dtype \n",
            "---  ------                   --------------  ----- \n",
            " 0   Animal                   205 non-null    object\n",
            " 1   Height (cm)              205 non-null    object\n",
            " 2   Weight (kg)              205 non-null    object\n",
            " 3   Color                    205 non-null    object\n",
            " 4   Lifespan (years)         205 non-null    object\n",
            " 5   Diet                     205 non-null    object\n",
            " 6   Habitat                  205 non-null    object\n",
            " 7   Predators                205 non-null    object\n",
            " 8   Average Speed (km/h)     205 non-null    object\n",
            " 9   Countries Found          205 non-null    object\n",
            " 10  Conservation Status      205 non-null    object\n",
            " 11  Family                   205 non-null    object\n",
            " 12  Gestation Period (days)  205 non-null    object\n",
            " 13  Top Speed (km/h)         205 non-null    object\n",
            " 14  Social Structure         205 non-null    object\n",
            " 15  Offspring per Birth      205 non-null    object\n",
            "dtypes: object(16)\n",
            "memory usage: 25.8+ KB\n"
          ]
        }
      ]
    },
    {
      "cell_type": "code",
      "source": [
        "import pandas as pd\n",
        "import os\n",
        "\n",
        "dataset_path = '/content/Sankalp/Animal Dataset.csv'\n",
        "animal_data = pd.read_csv(dataset_path)\n",
        "\n",
        "for column in animal_data.columns:\n",
        "    if animal_data[column].dtype == 'object':\n",
        "        animal_data[column].fillna(animal_data[column].mode()[0], inplace=True)\n",
        "    else:\n",
        "        animal_data[column].fillna(animal_data[column].median(), inplace=True)\n",
        "\n",
        "animal_data.drop_duplicates(inplace=True)\n",
        "\n",
        "text_columns = animal_data.select_dtypes(include='object').columns\n",
        "animal_data[text_columns] = animal_data[text_columns].apply(lambda x: x.str.lower().str.strip())\n",
        "\n",
        "clean_dir = '/mnt/data/Clean'\n",
        "os.makedirs(clean_dir, exist_ok=True)\n",
        "cleaned_data_path = os.path.join(clean_dir, 'Cleaned_Animal_Dataset.csv')\n",
        "\n",
        "animal_data.to_csv(cleaned_data_path, index=False)\n",
        "\n",
        "print(f\"Cleaned dataset saved at: {cleaned_data_path}\")\n"
      ],
      "metadata": {
        "colab": {
          "base_uri": "https://localhost:8080/"
        },
        "id": "SvXmPRhzrcWu",
        "outputId": "a8aea573-cb2f-44a5-8c77-c5c36b4f2891"
      },
      "execution_count": 5,
      "outputs": [
        {
          "output_type": "stream",
          "name": "stdout",
          "text": [
            "Cleaned dataset saved at: /mnt/data/Clean/Cleaned_Animal_Dataset.csv\n"
          ]
        },
        {
          "output_type": "stream",
          "name": "stderr",
          "text": [
            "<ipython-input-5-2ebbf4d252df>:9: FutureWarning: A value is trying to be set on a copy of a DataFrame or Series through chained assignment using an inplace method.\n",
            "The behavior will change in pandas 3.0. This inplace method will never work because the intermediate object on which we are setting values always behaves as a copy.\n",
            "\n",
            "For example, when doing 'df[col].method(value, inplace=True)', try using 'df.method({col: value}, inplace=True)' or df[col] = df[col].method(value) instead, to perform the operation inplace on the original object.\n",
            "\n",
            "\n",
            "  animal_data[column].fillna(animal_data[column].mode()[0], inplace=True)\n"
          ]
        }
      ]
    },
    {
      "cell_type": "code",
      "source": [
        "import os\n",
        "clean_dir = 'CLEANED'\n",
        "os.makedirs(clean_dir, exist_ok=True)\n",
        "cleaned_data_path = os.path.join(clean_dir, 'cleaned_dataset.csv')\n",
        "animal_data.to_csv(cleaned_data_path, index=False)\n",
        "print(f\"Cleaned dataset saved at: {cleaned_data_path}\")"
      ],
      "metadata": {
        "colab": {
          "base_uri": "https://localhost:8080/"
        },
        "id": "d6VLaSH_sET8",
        "outputId": "a951ad58-1f5f-4dc5-d2c9-3dd03e50488b"
      },
      "execution_count": 6,
      "outputs": [
        {
          "output_type": "stream",
          "name": "stdout",
          "text": [
            "Cleaned dataset saved at: CLEANED/cleaned_dataset.csv\n"
          ]
        }
      ]
    },
    {
      "source": [
        "import pandas as pd\n",
        "from sklearn.preprocessing import MinMaxScaler, StandardScaler\n",
        "import os\n",
        "\n",
        "cleaned_data_path = '/content/CLEANED/cleaned_dataset.csv'\n",
        "animal_data = pd.read_csv(cleaned_data_path)\n",
        "print(\"Original Data Types:\\n\", animal_data.dtypes)\n",
        "\n",
        "numeric_columns = animal_data.select_dtypes(include=['number']).columns\n",
        "\n",
        "for col in animal_data.columns:\n",
        "    if animal_data[col].dtype == 'object':\n",
        "        if any(char.isdigit() for char in animal_data[col].iloc[0] if char not in ['.', '-']):\n",
        "            try:\n",
        "                animal_data[col] = pd.to_numeric(animal_data[col].str.replace(r'[^0-9.-]', '', regex=True), errors='coerce')\n",
        "            except ValueError:\n",
        "                print(f\"Column '{col}' could not be fully converted to numeric. Check for more complex non-numeric patterns.\")\n",
        "        else:\n",
        "            print(f\"Column '{col}' is not numeric and won't be scaled.\")\n",
        "\n",
        "numeric_columns = animal_data.select_dtypes(include=['number']).columns\n",
        "categorical_columns = animal_data.select_dtypes(include=['object']).columns\n",
        "print(\"\\nData Types After Conversion:\\n\", animal_data.dtypes)\n",
        "if len(numeric_columns) > 0:\n",
        "    scaler = MinMaxScaler()\n",
        "    animal_data[numeric_columns] = scaler.fit_transform(animal_data[numeric_columns])\n",
        "else:\n",
        "    print(\"No numeric columns found for scaling.\")\n",
        "\n",
        "animal_data = pd.get_dummies(animal_data, columns=categorical_columns, drop_first=True)\n",
        "\n",
        "processed_data_path = '/mnt/data/Clean/Processed_Animal_Dataset.csv'\n",
        "\n",
        "animal_data.to_csv(processed_data_path, index=False)\n",
        "\n",
        "print(f\"Processed dataset saved at: {processed_data_path}\")"
      ],
      "cell_type": "code",
      "metadata": {
        "colab": {
          "base_uri": "https://localhost:8080/"
        },
        "id": "yOYKg0JS9cXU",
        "outputId": "d1a26973-f50f-4750-d12b-ee4d07789980"
      },
      "execution_count": 9,
      "outputs": [
        {
          "output_type": "stream",
          "name": "stdout",
          "text": [
            "Original Data Types:\n",
            " Animal                     object\n",
            "Height (cm)                object\n",
            "Weight (kg)                object\n",
            "Color                      object\n",
            "Lifespan (years)           object\n",
            "Diet                       object\n",
            "Habitat                    object\n",
            "Predators                  object\n",
            "Average Speed (km/h)       object\n",
            "Countries Found            object\n",
            "Conservation Status        object\n",
            "Family                     object\n",
            "Gestation Period (days)    object\n",
            "Top Speed (km/h)           object\n",
            "Social Structure           object\n",
            "Offspring per Birth        object\n",
            "dtype: object\n",
            "Column 'Animal' is not numeric and won't be scaled.\n",
            "Column 'Color' is not numeric and won't be scaled.\n",
            "Column 'Diet' is not numeric and won't be scaled.\n",
            "Column 'Habitat' is not numeric and won't be scaled.\n",
            "Column 'Predators' is not numeric and won't be scaled.\n",
            "Column 'Countries Found' is not numeric and won't be scaled.\n",
            "Column 'Conservation Status' is not numeric and won't be scaled.\n",
            "Column 'Family' is not numeric and won't be scaled.\n",
            "Column 'Social Structure' is not numeric and won't be scaled.\n",
            "\n",
            "Data Types After Conversion:\n",
            " Animal                      object\n",
            "Height (cm)                float64\n",
            "Weight (kg)                float64\n",
            "Color                       object\n",
            "Lifespan (years)           float64\n",
            "Diet                        object\n",
            "Habitat                     object\n",
            "Predators                   object\n",
            "Average Speed (km/h)       float64\n",
            "Countries Found             object\n",
            "Conservation Status         object\n",
            "Family                      object\n",
            "Gestation Period (days)    float64\n",
            "Top Speed (km/h)           float64\n",
            "Social Structure            object\n",
            "Offspring per Birth        float64\n",
            "dtype: object\n",
            "Processed dataset saved at: /mnt/data/Clean/Processed_Animal_Dataset.csv\n"
          ]
        }
      ]
    },
    {
      "cell_type": "code",
      "source": [
        "import os\n",
        "processed_dir = 'Preprocessed'\n",
        "os.makedirs(processed_dir, exist_ok=True)\n",
        "processed_data_path = os.path.join(processed_dir, 'Processed_Animal_Dataset.csv')\n",
        "animal_data.to_csv(processed_data_path, index=False)\n",
        "print(f\"Processed dataset saved at: {processed_data_path}\")"
      ],
      "metadata": {
        "id": "tiNlbqeWsfSG",
        "colab": {
          "base_uri": "https://localhost:8080/"
        },
        "outputId": "3b79d4d6-d917-48b7-c83e-954fece616f9"
      },
      "execution_count": 10,
      "outputs": [
        {
          "output_type": "stream",
          "name": "stdout",
          "text": [
            "Processed dataset saved at: Preprocessed/Processed_Animal_Dataset.csv\n"
          ]
        }
      ]
    }
  ]
}